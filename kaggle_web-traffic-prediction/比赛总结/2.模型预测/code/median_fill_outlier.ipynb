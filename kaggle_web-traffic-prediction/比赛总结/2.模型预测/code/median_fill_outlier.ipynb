{
 "cells": [
  {
   "cell_type": "code",
   "execution_count": null,
   "metadata": {
    "collapsed": true
   },
   "outputs": [],
   "source": [
    "import pandas as pd\n",
    "import numpy as np\n",
    "\n",
    "# 首先用前向填充缺失值，然后以一定窗口用中位数处理异常值，但是程序运行时，发现运行处理时间过长，最终弃用。\n",
    "\n",
    "def median_modi(row_num):\n",
    "    data=train_cleaned.iloc[:,row_num].to_frame()\n",
    "    data.columns = ['visits']\n",
    "    data['median'] = pd.rolling_median(data.visits,50,min_periods=1)\n",
    "    std_mult = 1.5\n",
    "    data.ix[np.abs(data.visits-data.visits.median())>=(std_mult*data.visits.std()),'visits'] = data.ix[np.abs(data.visits-data.visits.median())>=(std_mult*data.visits.std()),'median']\n",
    "    data.index = pd.to_datetime(data.index)\n",
    "    return data.visits\n",
    "\n",
    "train = pd.read_csv('train_1.csv')\n",
    "train_cleaned = train.iloc[:,1:].fillna(method='pad').T\n",
    "\n",
    "replace_df = pd.DataFrame(columns=train.columns)\n",
    "replace_df.Page = train.Page\n",
    "for row in range(10):\n",
    "    median_series = median_modi(row)\n",
    "    print median_series\n",
    "    replace_df.iloc[row, 1:] = median_series\n",
    "print replace_df.head(10)"
   ]
  }
 ],
 "metadata": {
  "kernelspec": {
   "display_name": "python27",
   "language": "python",
   "name": "python27"
  },
  "language_info": {
   "codemirror_mode": {
    "name": "ipython",
    "version": 2
   },
   "file_extension": ".py",
   "mimetype": "text/x-python",
   "name": "python",
   "nbconvert_exporter": "python",
   "pygments_lexer": "ipython2",
   "version": "2.7.9"
  }
 },
 "nbformat": 4,
 "nbformat_minor": 2
}
